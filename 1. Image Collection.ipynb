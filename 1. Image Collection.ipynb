{
 "cells": [
  {
   "cell_type": "markdown",
   "metadata": {},
   "source": [
    "# 1. Import Dependencies"
   ]
  },
  {
   "cell_type": "code",
   "execution_count": 1,
   "metadata": {},
   "outputs": [
    {
     "name": "stdout",
     "output_type": "stream",
     "text": [
      "Collecting opencv-python\n",
      "  Using cached opencv_python-4.5.3.56-cp37-cp37m-win_amd64.whl (34.9 MB)\n",
      "Collecting numpy>=1.14.5\n",
      "  Using cached numpy-1.21.1-cp37-cp37m-win_amd64.whl (14.0 MB)\n",
      "Installing collected packages: numpy, opencv-python\n",
      "Successfully installed numpy-1.21.1 opencv-python-4.5.3.56\n"
     ]
    }
   ],
   "source": [
    "!pip install opencv-python"
   ]
  },
  {
   "cell_type": "code",
   "execution_count": 2,
   "metadata": {},
   "outputs": [],
   "source": [
    "# Import opencv\n",
    "import cv2 \n",
    "\n",
    "# Import uuid\n",
    "import uuid\n",
    "\n",
    "# Import Operating System\n",
    "import os\n",
    "\n",
    "# Import time\n",
    "import time"
   ]
  },
  {
   "cell_type": "markdown",
   "metadata": {},
   "source": [
    "# 2. Define Images to Collect"
   ]
  },
  {
   "cell_type": "code",
   "execution_count": 1,
   "metadata": {},
   "outputs": [],
   "source": [
    "labels = ['IDcard']\n",
    "number_imgs = 10"
   ]
  },
  {
   "cell_type": "markdown",
   "metadata": {},
   "source": [
    "# 3. Setup Folders "
   ]
  },
  {
   "cell_type": "code",
   "execution_count": 3,
   "metadata": {},
   "outputs": [],
   "source": [
    "IMAGES_PATH = os.path.join('Tensorflow', 'workspace', 'images', 'collectedimages')"
   ]
  },
  {
   "cell_type": "code",
   "execution_count": 4,
   "metadata": {},
   "outputs": [],
   "source": [
    "if not os.path.exists(IMAGES_PATH):\n",
    "    if os.name == 'posix':\n",
    "        !mkdir -p {IMAGES_PATH}\n",
    "    if os.name == 'nt':\n",
    "         !mkdir {IMAGES_PATH}\n",
    "for label in labels:\n",
    "    path = os.path.join(IMAGES_PATH, label)\n",
    "    if not os.path.exists(path):\n",
    "        !mkdir {path}"
   ]
  },
  {
   "cell_type": "markdown",
   "metadata": {},
   "source": [
    "# 4. Capture Images"
   ]
  },
  {
   "cell_type": "code",
   "execution_count": 6,
   "metadata": {},
   "outputs": [
    {
     "name": "stdout",
     "output_type": "stream",
     "text": [
      "Collecting images for IDcard\n",
      "Collecting image 0\n",
      "Collecting image 1\n",
      "Collecting image 2\n",
      "Collecting image 3\n",
      "Collecting image 4\n",
      "Collecting image 5\n",
      "Collecting image 6\n",
      "Collecting image 7\n",
      "Collecting image 8\n",
      "Collecting image 9\n"
     ]
    }
   ],
   "source": [
    "for label in labels:\n",
    "    cap = cv2.VideoCapture(0)\n",
    "    print('Collecting images for {}'.format(label))\n",
    "    time.sleep(5)\n",
    "    for imgnum in range(number_imgs):\n",
    "        print('Collecting image {}'.format(imgnum))\n",
    "        ret, frame = cap.read()\n",
    "        imgname = os.path.join(IMAGES_PATH,label,label+'.'+'{}.jpg'.format(str(uuid.uuid1())))\n",
    "        cv2.imwrite(imgname, frame)\n",
    "        cv2.imshow('frame', frame)\n",
    "        time.sleep(2)\n",
    "\n",
    "        if cv2.waitKey(1) & 0xFF == ord('q'):\n",
    "            break\n",
    "cap.release()\n",
    "cv2.destroyAllWindows()"
   ]
  },
  {
   "cell_type": "markdown",
   "metadata": {},
   "source": [
    "# 5. Image Labelling"
   ]
  },
  {
   "cell_type": "code",
   "execution_count": 9,
   "metadata": {},
   "outputs": [
    {
     "name": "stdout",
     "output_type": "stream",
     "text": [
      "Collecting pyqt5\n",
      "  Downloading PyQt5-5.15.4-cp36.cp37.cp38.cp39-none-win_amd64.whl (6.8 MB)\n",
      "Collecting lxml\n",
      "  Downloading lxml-4.6.3-cp37-cp37m-win_amd64.whl (3.5 MB)\n",
      "Collecting PyQt5-Qt5>=5.15\n",
      "  Downloading PyQt5_Qt5-5.15.2-py3-none-win_amd64.whl (50.1 MB)\n",
      "Collecting PyQt5-sip<13,>=12.8\n",
      "  Downloading PyQt5_sip-12.9.0-cp37-cp37m-win_amd64.whl (62 kB)\n",
      "Installing collected packages: PyQt5-sip, PyQt5-Qt5, pyqt5, lxml\n",
      "Successfully installed PyQt5-Qt5-5.15.2 PyQt5-sip-12.9.0 lxml-4.6.3 pyqt5-5.15.4\n"
     ]
    }
   ],
   "source": [
    "!pip install --upgrade pyqt5 lxml"
   ]
  },
  {
   "cell_type": "code",
   "execution_count": 7,
   "metadata": {},
   "outputs": [],
   "source": [
    "LABELIMG_PATH = os.path.join('Tensorflow', 'labelimg')"
   ]
  },
  {
   "cell_type": "code",
   "execution_count": 11,
   "metadata": {},
   "outputs": [
    {
     "name": "stderr",
     "output_type": "stream",
     "text": [
      "Cloning into 'Tensorflow\\labelimg'...\n"
     ]
    }
   ],
   "source": [
    "if not os.path.exists(LABELIMG_PATH):\n",
    "    !mkdir {LABELIMG_PATH}\n",
    "    !git clone https://github.com/tzutalin/labelImg {LABELIMG_PATH}"
   ]
  },
  {
   "cell_type": "code",
   "execution_count": 8,
   "metadata": {},
   "outputs": [],
   "source": [
    "if os.name == 'posix':\n",
    "    !make qt5py3\n",
    "if os.name =='nt':\n",
    "    !cd {LABELIMG_PATH} && pyrcc5 -o libs/resources.py resources.qrc"
   ]
  },
  {
   "cell_type": "code",
   "execution_count": 9,
   "metadata": {},
   "outputs": [
    {
     "name": "stdout",
     "output_type": "stream",
     "text": [
      "Image:D:\\Data Science\\Jupyter\\ID card detection and OCR\\TFODCourse\\Tensorflow\\workspace\\images\\collectedimages\\IDcard\\IDcard.8a2e6f68-f5ae-11eb-89c6-f0038c43e360.jpg -> Annotation:D:/Data Science/Jupyter/ID card detection and OCR/TFODCourse/Tensorflow/workspace/images/collectedimages/IDcard/IDcard.8a2e6f68-f5ae-11eb-89c6-f0038c43e360.xml\n",
      "Image:D:\\Data Science\\Jupyter\\ID card detection and OCR\\TFODCourse\\Tensorflow\\workspace\\images\\collectedimages\\IDcard\\IDcard.b131247e-f5ae-11eb-aae3-f0038c43e360.jpg -> Annotation:D:/Data Science/Jupyter/ID card detection and OCR/TFODCourse/Tensorflow/workspace/images/collectedimages/IDcard/IDcard.b131247e-f5ae-11eb-aae3-f0038c43e360.xml\n",
      "Image:D:\\Data Science\\Jupyter\\ID card detection and OCR\\TFODCourse\\Tensorflow\\workspace\\images\\collectedimages\\IDcard\\IDcard.b266f476-f5ae-11eb-b43e-f0038c43e360.jpg -> Annotation:D:/Data Science/Jupyter/ID card detection and OCR/TFODCourse/Tensorflow/workspace/images/collectedimages/IDcard/IDcard.b266f476-f5ae-11eb-b43e-f0038c43e360.xml\n",
      "Image:D:\\Data Science\\Jupyter\\ID card detection and OCR\\TFODCourse\\Tensorflow\\workspace\\images\\collectedimages\\IDcard\\IDcard.affd983a-f5ae-11eb-a5b6-f0038c43e360.jpg -> Annotation:D:/Data Science/Jupyter/ID card detection and OCR/TFODCourse/Tensorflow/workspace/images/collectedimages/IDcard/IDcard.affd983a-f5ae-11eb-a5b6-f0038c43e360.xml\n",
      "Image:D:\\Data Science\\Jupyter\\ID card detection and OCR\\TFODCourse\\Tensorflow\\workspace\\images\\collectedimages\\IDcard\\IDcard.aec782a6-f5ae-11eb-9a82-f0038c43e360.jpg -> Annotation:D:/Data Science/Jupyter/ID card detection and OCR/TFODCourse/Tensorflow/workspace/images/collectedimages/IDcard/IDcard.aec782a6-f5ae-11eb-9a82-f0038c43e360.xml\n",
      "Image:D:\\Data Science\\Jupyter\\ID card detection and OCR\\TFODCourse\\Tensorflow\\workspace\\images\\collectedimages\\IDcard\\IDcard.ad91d27e-f5ae-11eb-9397-f0038c43e360.jpg -> Annotation:D:/Data Science/Jupyter/ID card detection and OCR/TFODCourse/Tensorflow/workspace/images/collectedimages/IDcard/IDcard.ad91d27e-f5ae-11eb-9397-f0038c43e360.xml\n",
      "Image:D:\\Data Science\\Jupyter\\ID card detection and OCR\\TFODCourse\\Tensorflow\\workspace\\images\\collectedimages\\IDcard\\IDcard.ac5b2688-f5ae-11eb-b49f-f0038c43e360.jpg -> Annotation:D:/Data Science/Jupyter/ID card detection and OCR/TFODCourse/Tensorflow/workspace/images/collectedimages/IDcard/IDcard.ac5b2688-f5ae-11eb-b49f-f0038c43e360.xml\n",
      "Image:D:\\Data Science\\Jupyter\\ID card detection and OCR\\TFODCourse\\Tensorflow\\workspace\\images\\collectedimages\\IDcard\\IDcard.ab282140-f5ae-11eb-8520-f0038c43e360.jpg -> Annotation:D:/Data Science/Jupyter/ID card detection and OCR/TFODCourse/Tensorflow/workspace/images/collectedimages/IDcard/IDcard.ab282140-f5ae-11eb-8520-f0038c43e360.xml\n",
      "Image:D:\\Data Science\\Jupyter\\ID card detection and OCR\\TFODCourse\\Tensorflow\\workspace\\images\\collectedimages\\IDcard\\IDcard.a9f08a36-f5ae-11eb-8648-f0038c43e360.jpg -> Annotation:D:/Data Science/Jupyter/ID card detection and OCR/TFODCourse/Tensorflow/workspace/images/collectedimages/IDcard/IDcard.a9f08a36-f5ae-11eb-8648-f0038c43e360.xml\n",
      "Image:D:\\Data Science\\Jupyter\\ID card detection and OCR\\TFODCourse\\Tensorflow\\workspace\\images\\collectedimages\\IDcard\\IDcard.a8bb920a-f5ae-11eb-8dd2-f0038c43e360.jpg -> Annotation:D:/Data Science/Jupyter/ID card detection and OCR/TFODCourse/Tensorflow/workspace/images/collectedimages/IDcard/IDcard.a8bb920a-f5ae-11eb-8dd2-f0038c43e360.xml\n",
      "Image:D:\\Data Science\\Jupyter\\ID card detection and OCR\\TFODCourse\\Tensorflow\\workspace\\images\\collectedimages\\IDcard\\IDcard.804d9fd8-f5ae-11eb-9c2e-f0038c43e360.jpg -> Annotation:D:/Data Science/Jupyter/ID card detection and OCR/TFODCourse/Tensorflow/workspace/images/collectedimages/IDcard/IDcard.804d9fd8-f5ae-11eb-9c2e-f0038c43e360.xml\n"
     ]
    }
   ],
   "source": [
    "!cd {LABELIMG_PATH} && python labelImg.py"
   ]
  },
  {
   "cell_type": "markdown",
   "metadata": {},
   "source": [
    "# 6. Move them into a Training and Testing Partition"
   ]
  },
  {
   "cell_type": "markdown",
   "metadata": {},
   "source": [
    "# OPTIONAL - 7. Compress them for Colab Training"
   ]
  },
  {
   "cell_type": "code",
   "execution_count": 20,
   "metadata": {},
   "outputs": [],
   "source": [
    "TRAIN_PATH = os.path.join('Tensorflow', 'workspace', 'images', 'train')\n",
    "TEST_PATH = os.path.join('Tensorflow', 'workspace', 'images', 'test')\n",
    "ARCHIVE_PATH = os.path.join('Tensorflow', 'workspace', 'images', 'archive.tar.gz')"
   ]
  },
  {
   "cell_type": "code",
   "execution_count": 21,
   "metadata": {},
   "outputs": [],
   "source": [
    "!tar -czf {ARCHIVE_PATH} {TRAIN_PATH} {TEST_PATH}"
   ]
  },
  {
   "cell_type": "code",
   "execution_count": null,
   "metadata": {},
   "outputs": [],
   "source": []
  }
 ],
 "metadata": {
  "kernelspec": {
   "display_name": "idrealocr",
   "language": "python",
   "name": "idrealocr"
  },
  "language_info": {
   "codemirror_mode": {
    "name": "ipython",
    "version": 3
   },
   "file_extension": ".py",
   "mimetype": "text/x-python",
   "name": "python",
   "nbconvert_exporter": "python",
   "pygments_lexer": "ipython3",
   "version": "3.7.9"
  }
 },
 "nbformat": 4,
 "nbformat_minor": 2
}
